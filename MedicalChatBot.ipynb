{
  "nbformat": 4,
  "nbformat_minor": 0,
  "metadata": {
    "colab": {
      "provenance": [],
      "authorship_tag": "ABX9TyMQdUfGEJySyWJuQhQn+4Bi",
      "include_colab_link": true
    },
    "kernelspec": {
      "name": "python3",
      "display_name": "Python 3"
    },
    "language_info": {
      "name": "python"
    }
  },
  "cells": [
    {
      "cell_type": "markdown",
      "metadata": {
        "id": "view-in-github",
        "colab_type": "text"
      },
      "source": [
        "<a href=\"https://colab.research.google.com/github/AmazingGates/Best-Reads/blob/main/MedicalChatBot.ipynb\" target=\"_parent\"><img src=\"https://colab.research.google.com/assets/colab-badge.svg\" alt=\"Open In Colab\"/></a>"
      ]
    },
    {
      "cell_type": "code",
      "execution_count": null,
      "metadata": {
        "id": "offfbEZbHXPP"
      },
      "outputs": [],
      "source": [
        "pip install ctransformers"
      ]
    },
    {
      "cell_type": "code",
      "source": [
        "pip install sentence-transformers"
      ],
      "metadata": {
        "id": "Fqknndm3Pa_i"
      },
      "execution_count": null,
      "outputs": []
    },
    {
      "cell_type": "code",
      "source": [
        "pip install pinecone-client"
      ],
      "metadata": {
        "id": "MO4PmDiFPhQi"
      },
      "execution_count": null,
      "outputs": []
    },
    {
      "cell_type": "code",
      "source": [
        "pip install langchain"
      ],
      "metadata": {
        "id": "kSwXWfcePlhe"
      },
      "execution_count": null,
      "outputs": []
    },
    {
      "cell_type": "code",
      "source": [
        "pip install langchain-pinecone"
      ],
      "metadata": {
        "id": "MmT2QNO8xmxR"
      },
      "execution_count": null,
      "outputs": []
    },
    {
      "cell_type": "code",
      "source": [
        "pip install langchain_community"
      ],
      "metadata": {
        "id": "jSKXk4Yb3gEn"
      },
      "execution_count": null,
      "outputs": []
    },
    {
      "cell_type": "code",
      "source": [
        "pip install flask"
      ],
      "metadata": {
        "id": "3AQvmJz8Ptwp"
      },
      "execution_count": null,
      "outputs": []
    },
    {
      "cell_type": "code",
      "source": [
        "pip install pypdf"
      ],
      "metadata": {
        "id": "JsfUrW4CEX8t"
      },
      "execution_count": null,
      "outputs": []
    },
    {
      "cell_type": "code",
      "source": [
        "import os"
      ],
      "metadata": {
        "id": "URqVdMOA8M-i"
      },
      "execution_count": null,
      "outputs": []
    },
    {
      "cell_type": "code",
      "source": [
        "from langchain.embeddings import HuggingFaceEmbeddings"
      ],
      "metadata": {
        "id": "oRNYZ8g7IHIa"
      },
      "execution_count": null,
      "outputs": []
    },
    {
      "cell_type": "code",
      "source": [
        "from langchain import PromptTemplate"
      ],
      "metadata": {
        "id": "svpooE_UPyjP"
      },
      "execution_count": null,
      "outputs": []
    },
    {
      "cell_type": "code",
      "source": [
        "from langchain.chains import RetrievalQA"
      ],
      "metadata": {
        "id": "2TeLw1ExWxNL"
      },
      "execution_count": null,
      "outputs": []
    },
    {
      "cell_type": "code",
      "source": [
        "from langchain_pinecone import PineconeVectorStore"
      ],
      "metadata": {
        "id": "OJ3-iPm8W4jR"
      },
      "execution_count": null,
      "outputs": []
    },
    {
      "cell_type": "code",
      "source": [
        "from pinecone import Pinecone as PP, ServerlessSpec"
      ],
      "metadata": {
        "id": "KQ4Q_opJW9nl"
      },
      "execution_count": null,
      "outputs": []
    },
    {
      "cell_type": "code",
      "source": [
        "import pinecone"
      ],
      "metadata": {
        "id": "Y5eUyjx6oMZP"
      },
      "execution_count": null,
      "outputs": []
    },
    {
      "cell_type": "code",
      "source": [
        "from langchain.document_loaders import PyPDFLoader, DirectoryLoader"
      ],
      "metadata": {
        "id": "Fv-oaG-XXA79"
      },
      "execution_count": null,
      "outputs": []
    },
    {
      "cell_type": "code",
      "source": [
        "from langchain.text_splitter import RecursiveCharacterTextSplitter"
      ],
      "metadata": {
        "id": "mysa4MeLXFXy"
      },
      "execution_count": null,
      "outputs": []
    },
    {
      "cell_type": "code",
      "source": [
        "from langchain.prompts import PromptTemplate"
      ],
      "metadata": {
        "id": "0QjwGeReXIhY"
      },
      "execution_count": null,
      "outputs": []
    },
    {
      "cell_type": "code",
      "source": [
        "from langchain.llms import CTransformers"
      ],
      "metadata": {
        "id": "rWAKBU7YXMYd"
      },
      "execution_count": null,
      "outputs": []
    },
    {
      "cell_type": "code",
      "source": [
        "from ctransformers import AutoModelForCausalLM"
      ],
      "metadata": {
        "id": "0v2Mh-rgL2KQ"
      },
      "execution_count": null,
      "outputs": []
    },
    {
      "cell_type": "code",
      "source": [
        "os.environ[\"PINECONE_API_KEY\"] = \"2307a9eb-6c38-4d1e-aff0-03e3f519c2d1\""
      ],
      "metadata": {
        "id": "0l-eehiE2CKY"
      },
      "execution_count": null,
      "outputs": []
    },
    {
      "cell_type": "code",
      "source": [
        "#api_key = \"2307a9eb-6c38-4d1e-aff0-03e3f519c2d1\""
      ],
      "metadata": {
        "id": "N6JfQ9UAEbdZ"
      },
      "execution_count": null,
      "outputs": []
    },
    {
      "cell_type": "code",
      "source": [
        "#os.environ[\"PINECONE_API_ENV\"] = \"Severless\""
      ],
      "metadata": {
        "id": "-aUpco3jE3AG"
      },
      "execution_count": null,
      "outputs": []
    },
    {
      "cell_type": "code",
      "source": [
        "def load_pdf(Data):\n",
        "    loader = DirectoryLoader(Data,\n",
        "                    glob = \"*.pdf\",\n",
        "                    loader_cls = PyPDFLoader)\n",
        "    documents = loader.load()\n",
        "\n",
        "    return documents"
      ],
      "metadata": {
        "id": "OVdmVdd8E6M4"
      },
      "execution_count": null,
      "outputs": []
    },
    {
      "cell_type": "code",
      "source": [
        "extracted_data = load_pdf(\"sample_data\")"
      ],
      "metadata": {
        "id": "PhURC4gRFHgs"
      },
      "execution_count": null,
      "outputs": []
    },
    {
      "cell_type": "code",
      "source": [
        "# To double check that our data was extracted successfully we can run our variable with the load function\n",
        "#stored in it.\n",
        "\n",
        "# Note: This is only confirmation and isn't a necessity so we can comment this piece of code out once\n",
        "#we are done with it.\n",
        "\n",
        "extracted_data"
      ],
      "metadata": {
        "id": "8qInNu3mFLKZ"
      },
      "execution_count": null,
      "outputs": []
    },
    {
      "cell_type": "code",
      "source": [
        "def text_split(extracted_data):\n",
        "    text_splitter = RecursiveCharacterTextSplitter(chunk_size = 500, chunk_overlap =20)\n",
        "    text_chunks = text_splitter.split_documents(extracted_data)\n",
        "\n",
        "    return text_chunks"
      ],
      "metadata": {
        "id": "-oQgCyuWFRr1"
      },
      "execution_count": null,
      "outputs": []
    },
    {
      "cell_type": "code",
      "source": [
        "text_chunks = text_split(extracted_data)"
      ],
      "metadata": {
        "id": "KoVKvErIfXph"
      },
      "execution_count": null,
      "outputs": []
    },
    {
      "cell_type": "code",
      "source": [
        "print(\"Length of my chunk:\", len(text_chunks))"
      ],
      "metadata": {
        "id": "MxmDOubcfceI"
      },
      "execution_count": null,
      "outputs": []
    },
    {
      "cell_type": "code",
      "source": [
        "def download_hugging_face_embeddings():\n",
        "    embeddings = HuggingFaceEmbeddings(model_name = \"sentence-transformers/all-MiniLM-L6-v2\")\n",
        "\n",
        "    return embeddings"
      ],
      "metadata": {
        "id": "r8jOFnCEfgLq"
      },
      "execution_count": null,
      "outputs": []
    },
    {
      "cell_type": "code",
      "source": [
        "embeddings = download_hugging_face_embeddings()"
      ],
      "metadata": {
        "id": "ky3z5-1KfoWX"
      },
      "execution_count": null,
      "outputs": []
    },
    {
      "cell_type": "code",
      "source": [
        "embeddings"
      ],
      "metadata": {
        "id": "9hHxaqFZfxcz"
      },
      "execution_count": null,
      "outputs": []
    },
    {
      "cell_type": "code",
      "source": [
        "pc = PP(api_key = os.environ[\"PINECONE_API_KEY\"])\n",
        "\n",
        "index_name = \"medical-chatbot\""
      ],
      "metadata": {
        "id": "zDLZZr6ton3-"
      },
      "execution_count": null,
      "outputs": []
    },
    {
      "cell_type": "code",
      "source": [
        "docsearch = PineconeVectorStore.from_texts([t.page_content for t in text_chunks], embeddings, index_name=index_name)\n"
      ],
      "metadata": {
        "id": "P8wzipDYeGa4"
      },
      "execution_count": null,
      "outputs": []
    },
    {
      "cell_type": "code",
      "source": [
        "docsearch = PineconeVectorStore.from_existing_index(index_name, embeddings)\n"
      ],
      "metadata": {
        "id": "N1KCrUMWeLym"
      },
      "execution_count": null,
      "outputs": []
    },
    {
      "cell_type": "code",
      "source": [
        "query = \"What is Acne?\""
      ],
      "metadata": {
        "id": "hKcqMsF_eQvZ"
      },
      "execution_count": null,
      "outputs": []
    },
    {
      "cell_type": "code",
      "source": [
        "docs = docsearch.similarity_search(query, k = 3)"
      ],
      "metadata": {
        "id": "DkcrgcUyeU0J"
      },
      "execution_count": null,
      "outputs": []
    },
    {
      "cell_type": "code",
      "source": [
        "print(\"Result\", docs)"
      ],
      "metadata": {
        "id": "X643nsjPeX_H"
      },
      "execution_count": null,
      "outputs": []
    },
    {
      "cell_type": "code",
      "source": [
        "prompt_template = \"\"\"\n",
        "Use the following pieces of information to answer the user's question.\n",
        "If you don't know the answer, just say that you don't know, don't try to make up an answer.\n",
        "\n",
        "Context: {context}\n",
        "Question: {question}\n",
        "\n",
        "Only return the helpful answer below and nothing else.\n",
        "Helpful answer:\n",
        "\"\"\""
      ],
      "metadata": {
        "id": "fDZ6ftf0ec8I"
      },
      "execution_count": null,
      "outputs": []
    },
    {
      "cell_type": "code",
      "source": [
        "PROMPT = PromptTemplate(template = prompt_template, input_variables = [\"context\", \"question\"])\n",
        "chain_type_kwargs = {\"prompt\": PROMPT}"
      ],
      "metadata": {
        "id": "zu0PdxRQenbJ"
      },
      "execution_count": null,
      "outputs": []
    },
    {
      "cell_type": "code",
      "source": [
        "llm = CTransformers(\n",
        "    model = \"TheBloke/Llama-2-7B-Chat-GGML\",\n",
        "    model_file=\"llama-2-7b-chat.ggmlv3.q4_0.bin\",\n",
        "    model_type=\"llama\",\n",
        "    max_new_tokens = 512,\n",
        "    temperature = 0.8\n",
        ")"
      ],
      "metadata": {
        "id": "PwgnM0jN1XZK"
      },
      "execution_count": null,
      "outputs": []
    },
    {
      "cell_type": "code",
      "source": [
        "qa = RetrievalQA.from_chain_type(\n",
        "    llm=llm, # Now using the CTransformers wrapper\n",
        "    chain_type=\"stuff\",\n",
        "    retriever=docsearch.as_retriever(search_kwargs = {\"k\": 2}),\n",
        "    return_source_documents=True,\n",
        "    chain_type_kwargs=chain_type_kwargs\n",
        ")"
      ],
      "metadata": {
        "id": "Kyw_h3Xc1b3h"
      },
      "execution_count": null,
      "outputs": []
    },
    {
      "cell_type": "code",
      "source": [
        "while True:\n",
        "    user_input = input(f\"Input Prompt:\")\n",
        "    result = qa({\"query\": user_input})\n",
        "    print(\"Response : \", result[\"result\"])"
      ],
      "metadata": {
        "id": "2Qs4VX7a1gyZ"
      },
      "execution_count": null,
      "outputs": []
    },
    {
      "cell_type": "code",
      "source": [],
      "metadata": {
        "id": "3k7Qvhqauxdw"
      },
      "execution_count": null,
      "outputs": []
    }
  ]
}